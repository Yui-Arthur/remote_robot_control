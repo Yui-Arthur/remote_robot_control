{
 "cells": [
  {
   "cell_type": "markdown",
   "metadata": {},
   "source": [
    "### build dataset"
   ]
  },
  {
   "cell_type": "code",
   "execution_count": 13,
   "metadata": {},
   "outputs": [],
   "source": [
    "import csv\n",
    "from pathlib import Path\n",
    "import numpy as np\n",
    "import tensorflow as tf\n",
    "import random\n",
    "from tqdm import tqdm\n",
    "import matplotlib.pyplot as plt\n",
    "import math\n",
    "\n",
    "def expand_row_data(data, capture_point) -> tuple[np.ndarray, np.ndarray]:\n",
    "\n",
    "    label = []\n",
    "    expand_data = []\n",
    "\n",
    "    for idx in range(1, len(data) - capture_point*2, 6):\n",
    "        label.append(int(data[0]))\n",
    "        # \n",
    "        n_data = np.array([], dtype=np.float32)\n",
    "        for i in range(0, capture_point*2, 6):\n",
    "            # n_data = np.concatenate((n_data, data[idx + i + 3 : idx + i + 6]), axis=0, dtype=np.float32)\n",
    "            n_data = np.concatenate((n_data, data[idx + i + 0 : idx + i + 3]), axis=0, dtype=np.float32)\n",
    "            \n",
    "        expand_data.append(n_data)\n",
    "        # print(n_data.shape)\n",
    "        # raise ValueError\n",
    "        # \n",
    "        # expand_data.append(np.array(data[idx : idx + capture_point], dtype=np.float32))\n",
    "\n",
    "    return label, expand_data\n",
    "\n",
    "def gen_tf_dataset(data, capture_point, batch_size, output_class):\n",
    "    label = []\n",
    "    expanded_data = []\n",
    "    for row in data:\n",
    "        l, e = expand_row_data(row, capture_point)    \n",
    "        \n",
    "        label += l\n",
    "        expanded_data += e\n",
    "    label = tf.one_hot(label, output_class)  \n",
    "    \n",
    "    dataset = tf.data.Dataset.from_tensor_slices((expanded_data, label))\n",
    "    dataset = dataset.shuffle(len(data), reshuffle_each_iteration=True)\n",
    "    dataset = dataset.cache()\n",
    "    dataset = dataset.batch(batch_size, drop_remainder=True).prefetch(tf.data.AUTOTUNE)\n",
    "    return dataset\n",
    "\n",
    "def dataset_preproccessed(data_folder, batch_size, train_vaild_test_ratio, output_class):\n",
    "    data_folder = Path(data_folder)\n",
    "\n",
    "    if len(data_folder.stem.split('_')) == 3:\n",
    "        capture_point, extra_point = data_folder.stem.split('_')[:-1]\n",
    "    else:\n",
    "        capture_point, extra_point, _ = data_folder.stem.split('_')[:-1]\n",
    "    # capture_point = int(capture_point[1:]) * 6\n",
    "    capture_point = int(capture_point[1:]) * 3\n",
    "    extra_point = int(extra_point[1:])\n",
    "\n",
    "    \n",
    "    with open(data_folder, newline='') as data:\n",
    "        row_data = csv.reader(data, delimiter=',')\n",
    "        row_data = [i for i in row_data]\n",
    "\n",
    "    random.shuffle(row_data)\n",
    "    \n",
    "    train_data_cnt = int(len(row_data) * train_vaild_test_ratio[0])\n",
    "    valid_data_cnt = int(len(row_data) * train_vaild_test_ratio[1])\n",
    "    test_data_cnt = len(row_data) - train_data_cnt - valid_data_cnt\n",
    "    print(capture_point, extra_point)\n",
    "    print(train_data_cnt, valid_data_cnt, test_data_cnt)\n",
    "    \n",
    "    for idx, row in enumerate(row_data):\n",
    "        for c_idx, _ in enumerate(row): \n",
    "\n",
    "            row_data[idx][c_idx] = float(row[c_idx])\n",
    "\n",
    "            if c_idx == 0: continue\n",
    "\n",
    "            # if (c_idx-1) % 6 < 3 : row_data[idx][c_idx] = (row_data[idx][c_idx] + 4.0) / 8.0\n",
    "            if (c_idx-1) % 6 < 3 : row_data[idx][c_idx] = row_data[idx][c_idx]\n",
    "            else: row_data[idx][c_idx] = (row_data[idx][c_idx] + 2000.0) / 4000.0\n",
    "\n",
    "    train_dataset = gen_tf_dataset(row_data[:train_data_cnt], capture_point, batch_size, output_class)\n",
    "    valid_dataset = gen_tf_dataset(row_data[train_data_cnt : train_data_cnt + valid_data_cnt], capture_point, batch_size, output_class)\n",
    "    # test_dataset = gen_tf_dataset(row_data[train_data_cnt + valid_data_cnt : ], capture_point, batch_size, output_class)\n",
    "    test_dataset = None\n",
    "    print(len(train_dataset) * batch_size)\n",
    "    print(len(valid_dataset) * batch_size)\n",
    "    # print(len(test_dataset) * batch_size)\n",
    "    \n",
    "    return capture_point, train_dataset, valid_dataset, test_dataset\n",
    "\n",
    "\n"
   ]
  },
  {
   "cell_type": "markdown",
   "metadata": {},
   "source": [
    "### pseudo dataset"
   ]
  },
  {
   "cell_type": "code",
   "execution_count": 14,
   "metadata": {},
   "outputs": [],
   "source": [
    "def gen_pseudo_dataset(size, capture_point, batch_size, output_class):\n",
    "    label = []\n",
    "    expanded_data = []\n",
    "\n",
    "    x_values = np.random.uniform(low=0, high= output_class * 1000, size=size).astype(np.float32)\n",
    "\n",
    "    for x in x_values:\n",
    "        l = int(x // 1000) \n",
    "\n",
    "        e = [l for i in range(capture_point)]\n",
    "\n",
    "        label += [l]\n",
    "        expanded_data += [e]\n",
    "    label = tf.one_hot(label, output_class)  \n",
    "    \n",
    "    dataset = tf.data.Dataset.from_tensor_slices((expanded_data, label))\n",
    "    dataset = dataset.shuffle(size, reshuffle_each_iteration=True)\n",
    "    dataset = dataset.cache()\n",
    "    dataset = dataset.batch(batch_size, drop_remainder=True).prefetch(tf.data.AUTOTUNE)\n",
    "    return dataset\n",
    "\n",
    "def pseudo_dataset_preproccessed(total_data_size ,capture_point, batch_size, train_vaild_test_ratio, output_class):\n",
    "\n",
    "    \n",
    "    train_data_cnt = int(total_data_size * train_vaild_test_ratio[0])\n",
    "    valid_data_cnt = int(total_data_size * train_vaild_test_ratio[1])\n",
    "    test_data_cnt = total_data_size- train_data_cnt - valid_data_cnt\n",
    "    print(capture_point)\n",
    "    print(train_data_cnt, valid_data_cnt, test_data_cnt)\n",
    "\n",
    "    train_dataset = gen_pseudo_dataset(train_data_cnt, capture_point, batch_size, output_class)\n",
    "    valid_dataset = gen_pseudo_dataset(valid_data_cnt, capture_point, batch_size, output_class)\n",
    "    test_dataset = gen_pseudo_dataset(test_data_cnt, capture_point, batch_size, output_class)\n",
    "    \n",
    "    return capture_point, train_dataset, valid_dataset, test_dataset"
   ]
  },
  {
   "cell_type": "markdown",
   "metadata": {},
   "source": [
    "### define model"
   ]
  },
  {
   "cell_type": "code",
   "execution_count": 15,
   "metadata": {},
   "outputs": [],
   "source": [
    "class model(tf.keras.Model):\n",
    "    def __init__(self , input_dim , out_class , learning_rate=1e-3):\n",
    "        super().__init__()\n",
    "        self.input_dim = input_dim\n",
    "        self.out_class = out_class\n",
    "        self.learning_rate = learning_rate\n",
    "\n",
    "        self._model = self._build_model()\n",
    "        self._learner = self._build_learner()\n",
    "    \n",
    "    @tf.function\n",
    "    def call(self, x:tf.Tensor, training:bool=False) -> tf.Tensor:\n",
    "        output = self._model(x, training=training)\n",
    "        return output\n",
    "    \n",
    "    @tf.function\n",
    "    def train(self, x:tf.Tensor, y:tf.Tensor):\n",
    "        with tf.GradientTape() as tape:\n",
    "            output = self.__call__(x, training=True)\n",
    "            classLoss = self._learner[\"get_loss\"](y, output)\n",
    "            review = tf.math.in_top_k(tf.math.argmax(y,axis=1), output, 1)\n",
    "            perf = tf.math.reduce_mean(tf.cast(review, dtype=\"float32\"))\n",
    "\n",
    "        cGradients = tape.gradient(classLoss, self._model.trainable_variables)\n",
    "        self._learner[\"optimize\"].apply_gradients(zip(cGradients, self._model.trainable_variables))\n",
    "        return perf, classLoss\n",
    "\n",
    "\n",
    "    @tf.function\n",
    "    def validate(self, x:tf.Tensor, y:tf.Tensor) -> tf.Tensor:\n",
    "        output = self.__call__(x, training=False)\n",
    "        classLoss = self._learner[\"get_loss\"](y , output)\n",
    "        review = tf.math.in_top_k(tf.math.argmax(y,axis=1), output, 1)\n",
    "        perf = tf.math.reduce_mean(tf.cast(review, dtype=\"float32\"))\n",
    "        return perf , classLoss\n",
    "\n",
    "    def _build_model(self) -> tf.keras.Model:\n",
    "\n",
    "        input_tensor = tf.keras.Input(shape=self.input_dim)\n",
    "        feature_map = input_tensor\n",
    "        \n",
    "        d = 32\n",
    "        feature_map = tf.keras.layers.Dense(d, input_dim = self.input_dim, activation='relu')(feature_map)\n",
    "        feature_map = tf.keras.layers.Dropout(0.1)(feature_map)\n",
    "\n",
    "        feature_map = tf.keras.layers.Dense(d // 4, input_dim = d, activation='relu')(feature_map)\n",
    "        feature_map = tf.keras.layers.Dropout(0.1)(feature_map)\n",
    "\n",
    "        feature_map = tf.keras.layers.Dense(d // 8, input_dim = d // 4, activation='relu')(feature_map)\n",
    "        feature_map = tf.keras.layers.Dropout(0.1)(feature_map)\n",
    "        \n",
    "        output_tensor = tf.keras.layers.Dense(self.out_class, input_dim = d // 8, activation=tf.keras.activations.softmax)(feature_map)\n",
    "        \n",
    "\n",
    "        model = tf.keras.Model(input_tensor, output_tensor)\n",
    "        return model\n",
    "    \n",
    "    def _build_learner(self) -> dict:\n",
    "        # classLoss = tf.keras.losses.CategoricalCrossentropy(from_logits=True)\n",
    "        classLoss = tf.keras.losses.CategoricalCrossentropy()\n",
    "        # classOptimizer = tf.keras.optimizers.Adam(learning_rate=self.learning_rate)\n",
    "        classOptimizer = tf.keras.optimizers.SGD(learning_rate=self.learning_rate)\n",
    "        learner = {\"get_loss\": classLoss, \"optimize\": classOptimizer}\n",
    "\n",
    "        return learner"
   ]
  },
  {
   "cell_type": "markdown",
   "metadata": {},
   "source": [
    "### train"
   ]
  },
  {
   "cell_type": "code",
   "execution_count": 16,
   "metadata": {},
   "outputs": [],
   "source": [
    "def train_one_epoch(model , train_dataloader , valid_dataloader , max_acc , root_dir : Path):\n",
    "\n",
    "    epoch_train_loss = []\n",
    "    epoch_train_acc = []\n",
    "    epoch_valid_loss = []\n",
    "    epoch_valid_acc = []\n",
    "\n",
    "    for inData, outData in train_dataloader:\n",
    "        acc , loss = model.train(inData, outData)\n",
    "        epoch_train_acc.append(acc)\n",
    "        epoch_train_loss.append(loss)\n",
    "        # print(loss)\n",
    "        # print(acc)\n",
    "    # raise ValueError\n",
    "        \n",
    "    for inData, outData in valid_dataloader:\n",
    "        acc , loss = model.validate(inData, outData)\n",
    "        epoch_valid_acc.append(acc)\n",
    "        epoch_valid_loss.append(loss)\n",
    "\n",
    "    epoch_train_acc_mean = tf.math.reduce_mean(epoch_train_acc) * 100\n",
    "    epoch_valid_acc_mean = tf.math.reduce_mean(epoch_valid_acc) * 100\n",
    "    epoch_train_loss_mean = tf.math.reduce_mean(epoch_train_loss)\n",
    "    epoch_valid_loss_mean = tf.math.reduce_mean(epoch_valid_loss)\n",
    "\n",
    "    print(f\"  Train Acc: {epoch_train_acc_mean:.2f}, Loss: {epoch_train_loss_mean:.2f}\")\n",
    "    print(f\"  Valid Acc: {epoch_valid_acc_mean:.2f}, Loss: {epoch_valid_loss_mean:.2f}\")\n",
    "\n",
    "    if(epoch_valid_acc_mean > max_acc):\n",
    "        print(\"save best model\")\n",
    "        model.save(root_dir /\"model\", include_optimizer=False)\n",
    "    \n",
    "    return epoch_train_acc_mean, epoch_train_loss_mean , epoch_valid_acc_mean , epoch_valid_loss_mean\n"
   ]
  },
  {
   "cell_type": "code",
   "execution_count": 17,
   "metadata": {},
   "outputs": [],
   "source": [
    "def testing_model(dataset_path, capture_point, output_class, root_dir : Path = None , model_path : Path = None):\n",
    "    if root_dir is not None :\n",
    "        model = tf.keras.models.load_model(root_dir / \"model\", compile=False)\n",
    "    elif model_path is not None:\n",
    "        model = tf.keras.models.load_model(model_path)\n",
    "    else:\n",
    "        raise AttributeError(\"Testing models root_dir and model_path are not given\")\n",
    "    \n",
    "    infer_cnt = 0\n",
    "    acc_cnt = 0\n",
    "\n",
    "    print(\"Testing Model\")\n",
    "    \n",
    "    with open(dataset_path, newline='') as data:\n",
    "        row_data = csv.reader(data, delimiter=',')\n",
    "        row_data = [i for i in row_data]\n",
    "    \n",
    "    for idx, row in enumerate(row_data):\n",
    "        for c_idx, _ in enumerate(row): \n",
    "            row_data[idx][c_idx] = float(row[c_idx])\n",
    "            \n",
    "            if c_idx == 0: continue\n",
    "            # if (c_idx-1) % 6 < 3 : row_data[idx][c_idx] = (row_data[idx][c_idx] + 4.0) / 8.0\n",
    "            if (c_idx-1) % 6 < 3 : row_data[idx][c_idx] = row_data[idx][c_idx]\n",
    "            else: row_data[idx][c_idx] = (row_data[idx][c_idx] + 2000.0) / 4000.0\n",
    "            # else: row_data[idx][c_idx] = 0.0\n",
    "\n",
    "\n",
    "    for data in row_data:\n",
    "        pred_cnt = [0 for i in range(output_class)]\n",
    "        label = int(data[0])\n",
    "        for idx in range(1, len(data) - capture_point*2, 6):\n",
    "            input = np.array([], np.float32)\n",
    "            for i in range(0, capture_point*2, 6):\n",
    "                input = np.concatenate((input, data[idx + i + 0 : idx + i + 3]), axis=0, dtype=np.float32)\n",
    "            # input = np.array(data[idx : idx + capture_point], dtype=np.float32)\n",
    "            pred = model(np.expand_dims(input, axis=0))\n",
    "            pred_cnt[np.argmax(pred)] += 1\n",
    "        \n",
    "        final_pred = np.argmax(pred_cnt)\n",
    "        # print(pred_cnt, label, final_pred)\n",
    "        acc_cnt += (final_pred == label)\n",
    "        infer_cnt += 1\n",
    "        \n",
    "    print(f\"acc = {acc_cnt / infer_cnt}\")\n",
    "    del model"
   ]
  },
  {
   "cell_type": "code",
   "execution_count": 18,
   "metadata": {},
   "outputs": [],
   "source": [
    "def show_train_results(train_info , root_folder : Path):\n",
    "    train_info = np.array(train_info)\n",
    "\n",
    "    plt.plot(np.arange(1,train_info.shape[0]+1) , train_info[:,0] , 'r' , label='train')\n",
    "    plt.plot(np.arange(1,train_info.shape[0]+1) , train_info[:,2] , 'b' , label='valid')\n",
    "    plt.title(\"Acc\")\n",
    "    plt.savefig(root_folder / \"model\" / \"Acc.png\")\n",
    "    plt.show()\n",
    "\n",
    "    plt.plot(np.arange(1,train_info.shape[0]+1) , train_info[:,1] , 'r' , label='train')\n",
    "    plt.plot(np.arange(1,train_info.shape[0]+1) , train_info[:,3] , 'b' , label='valid')\n",
    "    plt.title(\"Loss\")\n",
    "    plt.savefig(root_folder / \"model\" / \"Loss.png\")\n",
    "    plt.show()"
   ]
  },
  {
   "cell_type": "markdown",
   "metadata": {},
   "source": [
    "### convert model"
   ]
  },
  {
   "cell_type": "code",
   "execution_count": 19,
   "metadata": {},
   "outputs": [],
   "source": [
    "def save_model_tflite_quant(save_model_folder : Path , dataset):\n",
    "\n",
    "    def representative_dataset():\n",
    "        idx = 0\n",
    "        for data , label in dataset:\n",
    "            if idx > 1000:\n",
    "                break\n",
    "            idx += 1\n",
    "            \n",
    "            yield [data]\n",
    "\n",
    "    # float\n",
    "    converter = tf.lite.TFLiteConverter.from_saved_model(str(save_model_folder))\n",
    "    tflite_model = converter.convert()\n",
    "    open(save_model_folder / 'float_model.tflite', 'wb').write(tflite_model)\n",
    "    print(\"Successfully convert tflite float\")\n",
    "\n",
    "    # quant\n",
    "    converter = tf.lite.TFLiteConverter.from_saved_model(str(save_model_folder))\n",
    "    converter.optimizations = [tf.lite.Optimize.DEFAULT]\n",
    "    converter.representative_dataset = representative_dataset\n",
    "    converter.target_spec.supported_ops = [tf.lite.OpsSet.TFLITE_BUILTINS_INT8]\n",
    "    converter.inference_input_type = tf.int8  # or tf.uint8\n",
    "    converter.inference_output_type = tf.int8  # or tf.uint8\n",
    "    tflite_quant_model = converter.convert()\n",
    "    open(save_model_folder / 'quant_model.tflite', 'wb').write(tflite_quant_model)\n",
    "    print(\"Successfully convert tflite quant\")"
   ]
  },
  {
   "cell_type": "code",
   "execution_count": 20,
   "metadata": {},
   "outputs": [],
   "source": [
    "def test_tflite_model(tflite_model_path, dataset_path, capture_point, output_class):\n",
    "    interpreter = tf.lite.Interpreter(model_path=str(tflite_model_path))\n",
    "    interpreter.allocate_tensors()\n",
    "    input = interpreter.get_input_details()[0]\n",
    "    output = interpreter.get_output_details()[0]\n",
    "    input_scale, input_zero_point = input['quantization']\n",
    "    output_scale, output_zero_point = output[\"quantization\"]\n",
    "    \n",
    "    print(f\"testing with {tflite_model_path}\")\n",
    "\n",
    "    infer_cnt = 0\n",
    "    acc_cnt = 0\n",
    "    \n",
    "    with open(dataset_path, newline='') as data:\n",
    "        row_data = csv.reader(data, delimiter=',')\n",
    "        row_data = [i for i in row_data]\n",
    "    \n",
    "    for idx, row in enumerate(row_data):\n",
    "        for c_idx, _ in enumerate(row): \n",
    "            row_data[idx][c_idx] = float(row[c_idx])\n",
    "\n",
    "            if c_idx == 0: continue\n",
    "            # if (c_idx-1) % 6 < 3 : row_data[idx][c_idx] = (row_data[idx][c_idx] + 4.0) / 8.0\n",
    "            if (c_idx-1) % 6 < 3 : row_data[idx][c_idx] = row_data[idx][c_idx]\n",
    "            else: row_data[idx][c_idx] = (row_data[idx][c_idx] + 2000.0) / 4000.0\n",
    "\n",
    "    for data in row_data:\n",
    "        pred_cnt = [0 for i in range(output_class)]\n",
    "        label = int(data[0])\n",
    "        for idx in range(1, len(data) - capture_point*2, 6):\n",
    "            d = np.array([], np.float32)\n",
    "            for i in range(0, capture_point*2, 6):\n",
    "                d = np.concatenate((d, data[idx + i + 0 : idx + i + 3]), axis=0, dtype=np.float32)\n",
    "        \n",
    "            d = np.expand_dims(d, axis=0)\n",
    "            if input[\"dtype\"] == np.float32:\n",
    "                interpreter.set_tensor(input['index'], d)\n",
    "            else:\n",
    "                quant_data = d / input_scale + input_zero_point\n",
    "                \n",
    "                interpreter.set_tensor(input['index'], quant_data.astype(input[\"dtype\"] ))\n",
    "            \n",
    "            interpreter.invoke()\n",
    "\n",
    "            if output[\"dtype\"] == np.float32:\n",
    "                pred = interpreter.get_tensor(output['index'])\n",
    "            else:\n",
    "                dequant_pred = interpreter.get_tensor(output['index']).astype(np.float32)\n",
    "                pred = (dequant_pred - output_zero_point) * output_scale\n",
    "\n",
    "            pred_cnt[np.argmax(pred)] += 1\n",
    "            \n",
    "        final_pred = np.argmax(pred_cnt)\n",
    "        # print(infer_cnt, pred_cnt, label, final_pred)\n",
    "        acc_cnt += (final_pred == label)\n",
    "        infer_cnt += 1\n",
    "        \n",
    "    \n",
    "    print(f\"acc = {acc_cnt / infer_cnt} ({acc_cnt} / {infer_cnt})\")\n",
    "    \n"
   ]
  },
  {
   "cell_type": "markdown",
   "metadata": {},
   "source": [
    "### main func"
   ]
  },
  {
   "cell_type": "code",
   "execution_count": 21,
   "metadata": {},
   "outputs": [
    {
     "name": "stdout",
     "output_type": "stream",
     "text": [
      "60 10\n",
      "126 14 0\n"
     ]
    },
    {
     "name": "stderr",
     "output_type": "stream",
     "text": [
      "2024-06-16 16:49:39.412983: E external/local_xla/xla/stream_executor/cuda/cuda_driver.cc:274] failed call to cuInit: CUDA_ERROR_NO_DEVICE: no CUDA-capable device is detected\n"
     ]
    },
    {
     "name": "stdout",
     "output_type": "stream",
     "text": [
      "2520\n",
      "280\n",
      "Model: \"model_1\"\n",
      "_________________________________________________________________\n",
      " Layer (type)                Output Shape              Param #   \n",
      "=================================================================\n",
      " input_1 (InputLayer)        [(None, 60)]              0         \n",
      "                                                                 \n",
      " dense (Dense)               (None, 32)                1952      \n",
      "                                                                 \n",
      " dropout (Dropout)           (None, 32)                0         \n",
      "                                                                 \n",
      " dense_1 (Dense)             (None, 8)                 264       \n",
      "                                                                 \n",
      " dropout_1 (Dropout)         (None, 8)                 0         \n",
      "                                                                 \n",
      " dense_2 (Dense)             (None, 4)                 36        \n",
      "                                                                 \n",
      " dropout_2 (Dropout)         (None, 4)                 0         \n",
      "                                                                 \n",
      " dense_3 (Dense)             (None, 7)                 35        \n",
      "                                                                 \n",
      "=================================================================\n",
      "Total params: 2287 (8.93 KB)\n",
      "Trainable params: 2287 (8.93 KB)\n",
      "Non-trainable params: 0 (0.00 Byte)\n",
      "_________________________________________________________________\n",
      "  Train Acc: 33.81, Loss: 1.72\n",
      "  Valid Acc: 30.36, Loss: 1.48\n",
      "save best model\n",
      "INFO:tensorflow:Assets written to: model/assets\n"
     ]
    },
    {
     "name": "stderr",
     "output_type": "stream",
     "text": [
      "INFO:tensorflow:Assets written to: model/assets\n"
     ]
    },
    {
     "name": "stdout",
     "output_type": "stream",
     "text": [
      "  Train Acc: 51.94, Loss: 1.39\n",
      "  Valid Acc: 66.43, Loss: 1.20\n",
      "save best model\n",
      "INFO:tensorflow:Assets written to: model/assets\n"
     ]
    },
    {
     "name": "stderr",
     "output_type": "stream",
     "text": [
      "INFO:tensorflow:Assets written to: model/assets\n"
     ]
    },
    {
     "name": "stdout",
     "output_type": "stream",
     "text": [
      "  Train Acc: 54.13, Loss: 1.16\n",
      "  Valid Acc: 69.29, Loss: 0.89\n",
      "save best model\n",
      "INFO:tensorflow:Assets written to: model/assets\n"
     ]
    },
    {
     "name": "stderr",
     "output_type": "stream",
     "text": [
      "INFO:tensorflow:Assets written to: model/assets\n"
     ]
    },
    {
     "name": "stdout",
     "output_type": "stream",
     "text": [
      "  Train Acc: 62.26, Loss: 0.97\n",
      "  Valid Acc: 72.50, Loss: 0.68\n",
      "save best model\n",
      "INFO:tensorflow:Assets written to: model/assets\n"
     ]
    },
    {
     "name": "stderr",
     "output_type": "stream",
     "text": [
      "INFO:tensorflow:Assets written to: model/assets\n"
     ]
    },
    {
     "name": "stdout",
     "output_type": "stream",
     "text": [
      "  Train Acc: 69.76, Loss: 0.86\n",
      "  Valid Acc: 69.64, Loss: 0.64\n",
      "  Train Acc: 73.73, Loss: 0.78\n",
      "  Valid Acc: 76.43, Loss: 0.54\n",
      "save best model\n",
      "INFO:tensorflow:Assets written to: model/assets\n"
     ]
    },
    {
     "name": "stderr",
     "output_type": "stream",
     "text": [
      "INFO:tensorflow:Assets written to: model/assets\n"
     ]
    },
    {
     "name": "stdout",
     "output_type": "stream",
     "text": [
      "  Train Acc: 74.44, Loss: 0.75\n",
      "  Valid Acc: 76.43, Loss: 0.50\n",
      "  Train Acc: 76.07, Loss: 0.71\n",
      "  Valid Acc: 76.79, Loss: 0.46\n",
      "save best model\n",
      "INFO:tensorflow:Assets written to: model/assets\n"
     ]
    },
    {
     "name": "stderr",
     "output_type": "stream",
     "text": [
      "INFO:tensorflow:Assets written to: model/assets\n"
     ]
    },
    {
     "name": "stdout",
     "output_type": "stream",
     "text": [
      "  Train Acc: 76.35, Loss: 0.68\n",
      "  Valid Acc: 78.57, Loss: 0.42\n",
      "save best model\n",
      "INFO:tensorflow:Assets written to: model/assets\n"
     ]
    },
    {
     "name": "stderr",
     "output_type": "stream",
     "text": [
      "INFO:tensorflow:Assets written to: model/assets\n"
     ]
    },
    {
     "name": "stdout",
     "output_type": "stream",
     "text": [
      "  Train Acc: 74.96, Loss: 0.69\n",
      "  Valid Acc: 76.43, Loss: 0.40\n",
      "  Train Acc: 76.15, Loss: 0.66\n",
      "  Valid Acc: 78.21, Loss: 0.36\n",
      "  Train Acc: 78.21, Loss: 0.63\n",
      "  Valid Acc: 77.86, Loss: 0.34\n",
      "  Train Acc: 80.00, Loss: 0.59\n",
      "  Valid Acc: 79.29, Loss: 0.32\n",
      "save best model\n",
      "INFO:tensorflow:Assets written to: model/assets\n"
     ]
    },
    {
     "name": "stderr",
     "output_type": "stream",
     "text": [
      "INFO:tensorflow:Assets written to: model/assets\n"
     ]
    },
    {
     "name": "stdout",
     "output_type": "stream",
     "text": [
      "  Train Acc: 78.53, Loss: 0.61\n",
      "  Valid Acc: 79.29, Loss: 0.32\n",
      "  Train Acc: 79.96, Loss: 0.56\n",
      "  Valid Acc: 97.14, Loss: 0.27\n",
      "save best model\n",
      "INFO:tensorflow:Assets written to: model/assets\n"
     ]
    },
    {
     "name": "stderr",
     "output_type": "stream",
     "text": [
      "INFO:tensorflow:Assets written to: model/assets\n"
     ]
    },
    {
     "name": "stdout",
     "output_type": "stream",
     "text": [
      "  Train Acc: 80.36, Loss: 0.55\n",
      "  Valid Acc: 99.64, Loss: 0.24\n",
      "save best model\n",
      "INFO:tensorflow:Assets written to: model/assets\n"
     ]
    },
    {
     "name": "stderr",
     "output_type": "stream",
     "text": [
      "INFO:tensorflow:Assets written to: model/assets\n"
     ]
    },
    {
     "name": "stdout",
     "output_type": "stream",
     "text": [
      "  Train Acc: 79.64, Loss: 0.56\n",
      "  Valid Acc: 98.93, Loss: 0.24\n",
      "  Train Acc: 78.81, Loss: 0.57\n",
      "  Valid Acc: 98.93, Loss: 0.24\n",
      "  Train Acc: 79.56, Loss: 0.55\n",
      "  Valid Acc: 98.93, Loss: 0.23\n",
      "  Train Acc: 80.44, Loss: 0.54\n",
      "  Valid Acc: 97.86, Loss: 0.25\n",
      "  Train Acc: 80.95, Loss: 0.52\n",
      "  Valid Acc: 99.29, Loss: 0.21\n",
      "  Train Acc: 81.90, Loss: 0.50\n",
      "  Valid Acc: 99.64, Loss: 0.19\n",
      "  Train Acc: 80.24, Loss: 0.53\n",
      "  Valid Acc: 98.21, Loss: 0.21\n",
      "  Train Acc: 82.78, Loss: 0.49\n",
      "  Valid Acc: 98.57, Loss: 0.19\n",
      "  Train Acc: 82.06, Loss: 0.50\n",
      "  Valid Acc: 98.57, Loss: 0.20\n",
      "  Train Acc: 81.94, Loss: 0.50\n",
      "  Valid Acc: 98.21, Loss: 0.19\n",
      "  Train Acc: 83.53, Loss: 0.45\n",
      "  Valid Acc: 99.64, Loss: 0.14\n",
      "  Train Acc: 83.13, Loss: 0.48\n",
      "  Valid Acc: 98.21, Loss: 0.17\n",
      "  Train Acc: 84.13, Loss: 0.45\n",
      "  Valid Acc: 99.64, Loss: 0.14\n",
      "  Train Acc: 85.67, Loss: 0.42\n",
      "  Valid Acc: 99.29, Loss: 0.13\n",
      "  Train Acc: 85.36, Loss: 0.43\n",
      "  Valid Acc: 99.64, Loss: 0.12\n",
      "  Train Acc: 85.20, Loss: 0.43\n",
      "  Valid Acc: 99.29, Loss: 0.13\n",
      "  Train Acc: 85.32, Loss: 0.43\n",
      "  Valid Acc: 99.64, Loss: 0.11\n",
      "  Train Acc: 84.72, Loss: 0.43\n",
      "  Valid Acc: 98.21, Loss: 0.15\n",
      "  Train Acc: 85.79, Loss: 0.42\n",
      "  Valid Acc: 99.64, Loss: 0.11\n",
      "  Train Acc: 85.04, Loss: 0.42\n",
      "  Valid Acc: 99.29, Loss: 0.10\n",
      "  Train Acc: 85.12, Loss: 0.42\n",
      "  Valid Acc: 99.64, Loss: 0.11\n",
      "  Train Acc: 85.40, Loss: 0.41\n",
      "  Valid Acc: 100.00, Loss: 0.08\n",
      "save best model\n",
      "INFO:tensorflow:Assets written to: model/assets\n"
     ]
    },
    {
     "name": "stderr",
     "output_type": "stream",
     "text": [
      "INFO:tensorflow:Assets written to: model/assets\n"
     ]
    },
    {
     "name": "stdout",
     "output_type": "stream",
     "text": [
      "  Train Acc: 86.23, Loss: 0.39\n",
      "  Valid Acc: 99.64, Loss: 0.08\n",
      "  Train Acc: 85.12, Loss: 0.41\n",
      "  Valid Acc: 99.64, Loss: 0.09\n",
      "  Train Acc: 83.97, Loss: 0.43\n",
      "  Valid Acc: 99.64, Loss: 0.10\n",
      "  Train Acc: 85.79, Loss: 0.39\n",
      "  Valid Acc: 100.00, Loss: 0.08\n",
      "  Train Acc: 86.55, Loss: 0.37\n",
      "  Valid Acc: 100.00, Loss: 0.07\n",
      "  Train Acc: 86.51, Loss: 0.38\n",
      "  Valid Acc: 100.00, Loss: 0.08\n",
      "  Train Acc: 86.31, Loss: 0.38\n",
      "  Valid Acc: 100.00, Loss: 0.08\n",
      "  Train Acc: 85.95, Loss: 0.39\n",
      "  Valid Acc: 100.00, Loss: 0.08\n",
      "  Train Acc: 87.34, Loss: 0.35\n",
      "  Valid Acc: 100.00, Loss: 0.07\n",
      "  Train Acc: 86.19, Loss: 0.38\n",
      "  Valid Acc: 100.00, Loss: 0.08\n",
      "  Train Acc: 85.36, Loss: 0.39\n",
      "  Valid Acc: 98.21, Loss: 0.11\n",
      "  Train Acc: 86.43, Loss: 0.37\n",
      "  Valid Acc: 96.79, Loss: 0.13\n",
      "  Train Acc: 84.76, Loss: 0.41\n",
      "  Valid Acc: 100.00, Loss: 0.07\n",
      "  Train Acc: 86.47, Loss: 0.37\n",
      "  Valid Acc: 99.64, Loss: 0.08\n",
      "  Train Acc: 87.06, Loss: 0.36\n",
      "  Valid Acc: 100.00, Loss: 0.05\n",
      "  Train Acc: 86.94, Loss: 0.37\n",
      "  Valid Acc: 100.00, Loss: 0.05\n",
      "  Train Acc: 86.63, Loss: 0.36\n",
      "  Valid Acc: 100.00, Loss: 0.06\n",
      "  Train Acc: 86.39, Loss: 0.37\n",
      "  Valid Acc: 100.00, Loss: 0.06\n",
      "  Train Acc: 86.03, Loss: 0.37\n",
      "  Valid Acc: 100.00, Loss: 0.07\n",
      "  Train Acc: 86.11, Loss: 0.37\n",
      "  Valid Acc: 99.64, Loss: 0.06\n",
      "  Train Acc: 85.87, Loss: 0.38\n",
      "  Valid Acc: 100.00, Loss: 0.05\n",
      "  Train Acc: 85.91, Loss: 0.37\n",
      "  Valid Acc: 100.00, Loss: 0.05\n",
      "  Train Acc: 86.59, Loss: 0.37\n",
      "  Valid Acc: 100.00, Loss: 0.05\n",
      "  Train Acc: 87.66, Loss: 0.35\n",
      "  Valid Acc: 100.00, Loss: 0.07\n",
      "  Train Acc: 86.75, Loss: 0.35\n",
      "  Valid Acc: 99.64, Loss: 0.06\n",
      "  Train Acc: 86.23, Loss: 0.37\n",
      "  Valid Acc: 100.00, Loss: 0.04\n",
      "  Train Acc: 86.67, Loss: 0.36\n",
      "  Valid Acc: 99.64, Loss: 0.06\n",
      "  Train Acc: 86.43, Loss: 0.36\n",
      "  Valid Acc: 100.00, Loss: 0.04\n",
      "  Train Acc: 86.83, Loss: 0.35\n",
      "  Valid Acc: 100.00, Loss: 0.05\n",
      "  Train Acc: 87.34, Loss: 0.33\n",
      "  Valid Acc: 100.00, Loss: 0.04\n",
      "  Train Acc: 86.94, Loss: 0.35\n",
      "  Valid Acc: 100.00, Loss: 0.04\n",
      "  Train Acc: 87.14, Loss: 0.33\n",
      "  Valid Acc: 100.00, Loss: 0.04\n",
      "  Train Acc: 86.79, Loss: 0.36\n",
      "  Valid Acc: 100.00, Loss: 0.05\n",
      "  Train Acc: 88.13, Loss: 0.33\n",
      "  Valid Acc: 100.00, Loss: 0.03\n",
      "  Train Acc: 86.43, Loss: 0.35\n",
      "  Valid Acc: 100.00, Loss: 0.05\n",
      "  Train Acc: 86.03, Loss: 0.36\n",
      "  Valid Acc: 100.00, Loss: 0.04\n",
      "  Train Acc: 87.06, Loss: 0.35\n",
      "  Valid Acc: 100.00, Loss: 0.04\n",
      "  Train Acc: 86.98, Loss: 0.34\n",
      "  Valid Acc: 100.00, Loss: 0.06\n",
      "  Train Acc: 86.79, Loss: 0.35\n",
      "  Valid Acc: 100.00, Loss: 0.05\n",
      "  Train Acc: 86.75, Loss: 0.35\n",
      "  Valid Acc: 100.00, Loss: 0.04\n",
      "  Train Acc: 87.50, Loss: 0.32\n",
      "  Valid Acc: 100.00, Loss: 0.04\n",
      "  Train Acc: 87.54, Loss: 0.34\n",
      "  Valid Acc: 100.00, Loss: 0.04\n",
      "  Train Acc: 86.31, Loss: 0.35\n",
      "  Valid Acc: 99.29, Loss: 0.07\n",
      "  Train Acc: 86.51, Loss: 0.34\n",
      "  Valid Acc: 100.00, Loss: 0.05\n",
      "  Train Acc: 87.30, Loss: 0.34\n",
      "  Valid Acc: 99.64, Loss: 0.04\n",
      "  Train Acc: 85.67, Loss: 0.36\n",
      "  Valid Acc: 99.64, Loss: 0.05\n",
      "  Train Acc: 87.34, Loss: 0.34\n",
      "  Valid Acc: 100.00, Loss: 0.04\n",
      "  Train Acc: 86.15, Loss: 0.35\n",
      "  Valid Acc: 97.14, Loss: 0.10\n",
      "  Train Acc: 87.02, Loss: 0.34\n",
      "  Valid Acc: 100.00, Loss: 0.05\n",
      "  Train Acc: 87.06, Loss: 0.34\n",
      "  Valid Acc: 100.00, Loss: 0.03\n",
      "  Train Acc: 87.14, Loss: 0.32\n",
      "  Valid Acc: 99.64, Loss: 0.05\n",
      "  Train Acc: 87.22, Loss: 0.33\n",
      "  Valid Acc: 99.64, Loss: 0.06\n",
      "  Train Acc: 86.35, Loss: 0.35\n",
      "  Valid Acc: 99.64, Loss: 0.04\n",
      "  Train Acc: 85.95, Loss: 0.36\n",
      "  Valid Acc: 100.00, Loss: 0.05\n",
      "  Train Acc: 87.30, Loss: 0.33\n",
      "  Valid Acc: 100.00, Loss: 0.03\n",
      "  Train Acc: 86.07, Loss: 0.34\n",
      "  Valid Acc: 100.00, Loss: 0.04\n",
      "  Train Acc: 87.70, Loss: 0.33\n",
      "  Valid Acc: 99.64, Loss: 0.04\n",
      "  Train Acc: 86.79, Loss: 0.33\n",
      "  Valid Acc: 100.00, Loss: 0.03\n",
      "  Train Acc: 87.86, Loss: 0.33\n",
      "  Valid Acc: 100.00, Loss: 0.03\n",
      "  Train Acc: 86.55, Loss: 0.32\n",
      "  Valid Acc: 100.00, Loss: 0.05\n",
      "  Train Acc: 87.82, Loss: 0.32\n",
      "  Valid Acc: 100.00, Loss: 0.05\n",
      "  Train Acc: 88.49, Loss: 0.31\n",
      "  Valid Acc: 100.00, Loss: 0.03\n"
     ]
    },
    {
     "data": {
      "image/png": "[encoded data removed]",
      "text/plain": [
       "<Figure size 432x288 with 1 Axes>"
      ]
     },
     "metadata": {
      "needs_background": "light"
     },
     "output_type": "display_data"
    },
    {
     "data": {
      "image/png": "[encoded data removed]",
      "text/plain": [
       "<Figure size 432x288 with 1 Axes>"
      ]
     },
     "metadata": {
      "needs_background": "light"
     },
     "output_type": "display_data"
    },
    {
     "name": "stderr",
     "output_type": "stream",
     "text": [
      "WARNING:absl:Importing a function (__inference_internal_grad_fn_65487) with ops with unsaved custom gradients. Will likely fail if a gradient is requested.\n"
     ]
    },
    {
     "name": "stdout",
     "output_type": "stream",
     "text": [
      "Testing Model\n"
     ]
    },
    {
     "name": "stderr",
     "output_type": "stream",
     "text": [
      "WARNING:absl:Importing a function (__inference_internal_grad_fn_65487) with ops with unsaved custom gradients. Will likely fail if a gradient is requested.\n"
     ]
    },
    {
     "name": "stdout",
     "output_type": "stream",
     "text": [
      "acc = 0.9785714285714285\n"
     ]
    },
    {
     "name": "stderr",
     "output_type": "stream",
     "text": [
      "2024-06-16 16:50:38.383916: W tensorflow/compiler/mlir/lite/python/tf_tfl_flatbuffer_helpers.cc:378] Ignored output_format.\n",
      "2024-06-16 16:50:38.383951: W tensorflow/compiler/mlir/lite/python/tf_tfl_flatbuffer_helpers.cc:381] Ignored drop_control_dependency.\n",
      "2024-06-16 16:50:38.384467: I tensorflow/cc/saved_model/reader.cc:83] Reading SavedModel from: model\n",
      "2024-06-16 16:50:38.387226: I tensorflow/cc/saved_model/reader.cc:51] Reading meta graph with tags { serve }\n",
      "2024-06-16 16:50:38.387249: I tensorflow/cc/saved_model/reader.cc:146] Reading SavedModel debug info (if present) from: model\n",
      "2024-06-16 16:50:38.391532: I tensorflow/compiler/mlir/mlir_graph_optimization_pass.cc:388] MLIR V1 optimization pass is not enabled\n",
      "2024-06-16 16:50:38.393292: I tensorflow/cc/saved_model/loader.cc:233] Restoring SavedModel bundle.\n",
      "2024-06-16 16:50:38.438268: I tensorflow/cc/saved_model/loader.cc:217] Running initialization op on SavedModel bundle at path: model\n",
      "2024-06-16 16:50:38.455947: I tensorflow/cc/saved_model/loader.cc:316] SavedModel load for tags { serve }; Status: success: OK. Took 71482 microseconds.\n",
      "2024-06-16 16:50:38.530289: I tensorflow/compiler/mlir/tensorflow/utils/dump_mlir_util.cc:269] disabling MLIR crash reproducer, set env var `MLIR_CRASH_REPRODUCER_DIRECTORY` to enable.\n",
      "Summary on the non-converted ops:\n",
      "---------------------------------\n",
      " * Accepted dialects: tfl, builtin, func\n",
      " * Non-Converted Ops: 8, Total Ops 16, % non-converted = 50.00 %\n",
      " * 8 ARITH ops\n",
      "\n",
      "- arith.constant:    8 occurrences  (f32: 8)\n",
      "\n",
      "\n",
      "\n",
      "  (f32: 4)\n",
      "  (f32: 1)\n"
     ]
    },
    {
     "name": "stdout",
     "output_type": "stream",
     "text": [
      "Successfully convert tflite float\n"
     ]
    },
    {
     "name": "stderr",
     "output_type": "stream",
     "text": [
      "WARNING:absl:Importing a function (__inference_internal_grad_fn_65487) with ops with unsaved custom gradients. Will likely fail if a gradient is requested.\n",
      "2024-06-16 16:50:39.180755: W tensorflow/compiler/mlir/lite/python/tf_tfl_flatbuffer_helpers.cc:378] Ignored output_format.\n",
      "2024-06-16 16:50:39.180788: W tensorflow/compiler/mlir/lite/python/tf_tfl_flatbuffer_helpers.cc:381] Ignored drop_control_dependency.\n",
      "2024-06-16 16:50:39.181017: I tensorflow/cc/saved_model/reader.cc:83] Reading SavedModel from: model\n",
      "2024-06-16 16:50:39.183615: I tensorflow/cc/saved_model/reader.cc:51] Reading meta graph with tags { serve }\n",
      "2024-06-16 16:50:39.183632: I tensorflow/cc/saved_model/reader.cc:146] Reading SavedModel debug info (if present) from: model\n",
      "2024-06-16 16:50:39.189431: I tensorflow/cc/saved_model/loader.cc:233] Restoring SavedModel bundle.\n",
      "2024-06-16 16:50:39.231986: I tensorflow/cc/saved_model/loader.cc:217] Running initialization op on SavedModel bundle at path: model\n",
      "2024-06-16 16:50:39.249317: I tensorflow/cc/saved_model/loader.cc:316] SavedModel load for tags { serve }; Status: success: OK. Took 68300 microseconds.\n",
      "Summary on the non-converted ops:\n",
      "---------------------------------\n",
      " * Accepted dialects: tfl, builtin, func\n",
      " * Non-Converted Ops: 8, Total Ops 16, % non-converted = 50.00 %\n",
      " * 8 ARITH ops\n",
      "\n",
      "- arith.constant:    8 occurrences  (f32: 8)\n",
      "\n",
      "\n",
      "\n",
      "  (f32: 4)\n",
      "  (f32: 1)\n",
      "fully_quantize: 0, inference_type: 6, input_inference_type: INT8, output_inference_type: INT8\n",
      "INFO: Created TensorFlow Lite XNNPACK delegate for CPU.\n"
     ]
    },
    {
     "name": "stdout",
     "output_type": "stream",
     "text": [
      "Successfully convert tflite quant\n",
      "testing with model/float_model.tflite\n",
      "acc = 0.9785714285714285 (137 / 140)\n",
      "testing with model/quant_model.tflite\n",
      "acc = 0.9785714285714285 (137 / 140)\n"
     ]
    }
   ],
   "source": [
    "batch_size = 8\n",
    "learning_rate = 1e-2\n",
    "epochs = 100\n",
    "\n",
    "dataset_path = \"../c20_e10_m15_data.csv\"\n",
    "# dataset_path = \"../c30_e5_dataset.csv\"\n",
    "output_class = 7\n",
    "save_dir = Path(\"./\")\n",
    "input_shape, train_dataset, valid_dataset, test_dataset = dataset_preproccessed(dataset_path, batch_size, [0.9, 0.10, 0.00], output_class)\n",
    "# input_shape, train_dataset, valid_dataset, test_dataset = pseudo_dataset_preproccessed(3000, 15, batch_size, [0.9, 0.05, 0.05], output_class)\n",
    "\n",
    "m = model([input_shape], output_class, learning_rate)\n",
    "m.build((batch_size , input_shape))\n",
    "m._model.summary()\n",
    "\n",
    "train_info = []\n",
    "max_acc = 0\n",
    "for epoch in range(epochs):\n",
    "    epoch_info = train_one_epoch(m, train_dataset, valid_dataset, max_acc, save_dir)\n",
    "    max_acc = max(epoch_info[2], max_acc)\n",
    "    train_info.append(list(epoch_info))\n",
    "\n",
    "show_train_results(train_info , save_dir)\n",
    "testing_model(dataset_path, input_shape, output_class, save_dir, save_dir)\n",
    "save_model_tflite_quant(save_dir / \"model\", valid_dataset)\n",
    "\n",
    "# input_shape, train_dataset, valid_dataset, test_dataset = dataset_preproccessed(\"../c30_e5_dataset.csv\", 1, [0.3, 0.3, 0.4], output_class)\n",
    "test_tflite_model(save_dir / \"model\" / \"float_model.tflite\", dataset_path, input_shape, output_class)\n",
    "test_tflite_model(save_dir / \"model\" / \"quant_model.tflite\", dataset_path, input_shape, output_class)\n",
    "\n",
    "!xxd -i {save_dir}/model/quant_model.tflite > model/model.cc\n",
    "# !echo -ne \"#include \\\"model_data_quant.h\\\"\\nalignas(8)\\n\" > model/model_data_quant.h\n",
    "!cat model/model.cc > model/model_data_quant.h\n",
    "!sed -i -E 's/(unsigned\\s.*\\s).*(_len|\\[\\])/const \\1model\\2/g' model/model_data_quant.h\n",
    "     "
   ]
  },
  {
   "cell_type": "code",
   "execution_count": 22,
   "metadata": {},
   "outputs": [],
   "source": [
    "# batch_size = 8\n",
    "# learning_rate = 1e-3\n",
    "# epochs = 50\n",
    "\n",
    "# dataset_path = \"../c30_e5_dataset.csv\"\n",
    "# output_class = 7\n",
    "# save_dir = Path(\"./\")\n",
    "# input_shape = 30 *6\n",
    "# test_tflite_model(save_dir / \"model\" / \"quant_model.tflite\", dataset_path, input_shape, output_class)"
   ]
  }
 ],
 "metadata": {
  "kernelspec": {
   "display_name": "umamba",
   "language": "python",
   "name": "python3"
  },
  "language_info": {
   "codemirror_mode": {
    "name": "ipython",
    "version": 3
   },
   "file_extension": ".py",
   "mimetype": "text/x-python",
   "name": "python",
   "nbconvert_exporter": "python",
   "pygments_lexer": "ipython3",
   "version": "3.9.12"
  }
 },
 "nbformat": 4,
 "nbformat_minor": 2
}
