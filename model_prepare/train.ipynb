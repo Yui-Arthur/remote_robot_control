{
 "cells": [
  {
   "cell_type": "markdown",
   "metadata": {},
   "source": [
    "### build dataset"
   ]
  },
  {
   "cell_type": "code",
   "execution_count": 1,
   "metadata": {},
   "outputs": [
    {
     "name": "stderr",
     "output_type": "stream",
     "text": [
      "2024-06-07 11:09:27.136834: I external/local_tsl/tsl/cuda/cudart_stub.cc:31] Could not find cuda drivers on your machine, GPU will not be used.\n",
      "2024-06-07 11:09:27.865899: E external/local_xla/xla/stream_executor/cuda/cuda_dnn.cc:9261] Unable to register cuDNN factory: Attempting to register factory for plugin cuDNN when one has already been registered\n",
      "2024-06-07 11:09:27.866120: E external/local_xla/xla/stream_executor/cuda/cuda_fft.cc:607] Unable to register cuFFT factory: Attempting to register factory for plugin cuFFT when one has already been registered\n",
      "2024-06-07 11:09:28.004774: E external/local_xla/xla/stream_executor/cuda/cuda_blas.cc:1515] Unable to register cuBLAS factory: Attempting to register factory for plugin cuBLAS when one has already been registered\n",
      "2024-06-07 11:09:28.286971: I external/local_tsl/tsl/cuda/cudart_stub.cc:31] Could not find cuda drivers on your machine, GPU will not be used.\n",
      "2024-06-07 11:09:28.290319: I tensorflow/core/platform/cpu_feature_guard.cc:182] This TensorFlow binary is optimized to use available CPU instructions in performance-critical operations.\n",
      "To enable the following instructions: AVX2 FMA, in other operations, rebuild TensorFlow with the appropriate compiler flags.\n",
      "2024-06-07 11:09:30.030364: W tensorflow/compiler/tf2tensorrt/utils/py_utils.cc:38] TF-TRT Warning: Could not find TensorRT\n",
      "/home/yui/anaconda3/lib/python3.9/site-packages/scipy/__init__.py:146: UserWarning: A NumPy version >=1.16.5 and <1.23.0 is required for this version of SciPy (detected version 1.26.2\n",
      "  warnings.warn(f\"A NumPy version >={np_minversion} and <{np_maxversion}\"\n"
     ]
    }
   ],
   "source": [
    "import csv\n",
    "from pathlib import Path\n",
    "import numpy as np\n",
    "import tensorflow as tf\n",
    "import random\n",
    "from tqdm import tqdm\n",
    "import matplotlib.pyplot as plt\n",
    "import math\n",
    "\n",
    "def expand_row_data(data, capture_point) -> tuple[np.ndarray, np.ndarray]:\n",
    "\n",
    "    label = []\n",
    "    expand_data = []\n",
    "\n",
    "    for idx in range(1, len(data), capture_point):\n",
    "        label.append(int(data[0]))\n",
    "        expand_data.append(np.array(data[idx : idx + capture_point], dtype=np.float32))\n",
    "\n",
    "    return label, expand_data\n",
    "\n",
    "def gen_tf_dataset(data, capture_point, batch_size, output_class):\n",
    "    label = []\n",
    "    expanded_data = []\n",
    "    for row in data:\n",
    "        l, e = expand_row_data(row, capture_point)    \n",
    "        \n",
    "        label += l\n",
    "        expanded_data += e\n",
    "    label = tf.one_hot(label, output_class)  \n",
    "    \n",
    "    dataset = tf.data.Dataset.from_tensor_slices((expanded_data, label))\n",
    "    dataset = dataset.shuffle(len(data), reshuffle_each_iteration=True)\n",
    "    dataset = dataset.cache()\n",
    "    dataset = dataset.batch(batch_size, drop_remainder=True).prefetch(tf.data.AUTOTUNE)\n",
    "    return dataset\n",
    "\n",
    "def dataset_preproccessed(data_folder, batch_size, train_vaild_test_ratio, output_class):\n",
    "    data_folder = Path(data_folder)\n",
    "    capture_point, extra_point = data_folder.stem.split('_')[:-1]\n",
    "    capture_point = int(capture_point[1:])\n",
    "    extra_point = int(extra_point[1:])\n",
    "\n",
    "    \n",
    "    with open(data_folder, newline='') as data:\n",
    "        row_data = csv.reader(data, delimiter=',')\n",
    "        row_data = [i for i in row_data]\n",
    "\n",
    "    random.shuffle(row_data)\n",
    "    \n",
    "    train_data_cnt = int(len(row_data) * train_vaild_test_ratio[0])\n",
    "    valid_data_cnt = int(len(row_data) * train_vaild_test_ratio[1])\n",
    "    test_data_cnt = len(row_data) - train_data_cnt - valid_data_cnt\n",
    "    print(capture_point, extra_point)\n",
    "    print(train_data_cnt, valid_data_cnt, test_data_cnt)\n",
    "    \n",
    "    for idx, row in enumerate(row_data):\n",
    "        for c_idx, _ in enumerate(row): \n",
    "            row_data[idx][c_idx] = float(row[c_idx])\n",
    "            if c_idx % 6 < 3 : row_data[idx][c_idx] = (row_data[idx][c_idx] + 4.0) / 8.0\n",
    "            else: row_data[idx][c_idx] = (row_data[idx][c_idx] + 2000.0) / 4000.0\n",
    "\n",
    "    train_dataset = gen_tf_dataset(row_data[:train_data_cnt], capture_point, batch_size, output_class)\n",
    "    valid_dataset = gen_tf_dataset(row_data[train_data_cnt : train_data_cnt + valid_data_cnt], capture_point, batch_size, output_class)\n",
    "    test_dataset = gen_tf_dataset(row_data[train_data_cnt + valid_data_cnt : ], capture_point, batch_size, output_class)\n",
    "    \n",
    "    return capture_point, train_dataset, valid_dataset, test_dataset\n",
    "\n",
    "\n"
   ]
  },
  {
   "cell_type": "markdown",
   "metadata": {},
   "source": [
    "### pseudo dataset"
   ]
  },
  {
   "cell_type": "code",
   "execution_count": 2,
   "metadata": {},
   "outputs": [],
   "source": [
    "def gen_pseudo_dataset(size, capture_point, batch_size, output_class):\n",
    "    label = []\n",
    "    expanded_data = []\n",
    "\n",
    "    x_values = np.random.uniform(low=0, high= output_class * 1000, size=size).astype(np.float32)\n",
    "\n",
    "    for x in x_values:\n",
    "        l = int(x // 1000) \n",
    "\n",
    "        e = [l for i in range(capture_point)]\n",
    "\n",
    "        label += [l]\n",
    "        expanded_data += [e]\n",
    "    label = tf.one_hot(label, output_class)  \n",
    "    \n",
    "    dataset = tf.data.Dataset.from_tensor_slices((expanded_data, label))\n",
    "    dataset = dataset.shuffle(size, reshuffle_each_iteration=True)\n",
    "    dataset = dataset.cache()\n",
    "    dataset = dataset.batch(batch_size, drop_remainder=True).prefetch(tf.data.AUTOTUNE)\n",
    "    return dataset\n",
    "\n",
    "def pseudo_dataset_preproccessed(total_data_size ,capture_point, batch_size, train_vaild_test_ratio, output_class):\n",
    "\n",
    "    \n",
    "    train_data_cnt = int(total_data_size * train_vaild_test_ratio[0])\n",
    "    valid_data_cnt = int(total_data_size * train_vaild_test_ratio[1])\n",
    "    test_data_cnt = total_data_size- train_data_cnt - valid_data_cnt\n",
    "    print(capture_point)\n",
    "    print(train_data_cnt, valid_data_cnt, test_data_cnt)\n",
    "\n",
    "    train_dataset = gen_pseudo_dataset(train_data_cnt, capture_point, batch_size, output_class)\n",
    "    valid_dataset = gen_pseudo_dataset(valid_data_cnt, capture_point, batch_size, output_class)\n",
    "    test_dataset = gen_pseudo_dataset(test_data_cnt, capture_point, batch_size, output_class)\n",
    "    \n",
    "    return capture_point, train_dataset, valid_dataset, test_dataset"
   ]
  },
  {
   "cell_type": "markdown",
   "metadata": {},
   "source": [
    "### define model"
   ]
  },
  {
   "cell_type": "code",
   "execution_count": 3,
   "metadata": {},
   "outputs": [],
   "source": [
    "class model(tf.keras.Model):\n",
    "    def __init__(self , input_dim , out_class = 9 , learning_rate=1e-3):\n",
    "        super().__init__()\n",
    "        self.input_dim = input_dim\n",
    "        self.out_class = out_class\n",
    "        self.learning_rate = learning_rate\n",
    "\n",
    "        self._model = self._build_model()\n",
    "        self._learner = self._build_learner()\n",
    "    \n",
    "    @tf.function\n",
    "    def call(self, x:tf.Tensor, training:bool=False) -> tf.Tensor:\n",
    "        output = self._model(x, training=training)\n",
    "        return output\n",
    "    \n",
    "    @tf.function\n",
    "    def train(self, x:tf.Tensor, y:tf.Tensor):\n",
    "        with tf.GradientTape() as tape:\n",
    "            output = self.__call__(x, training=True)\n",
    "            classLoss = self._learner[\"get_loss\"](y, output)\n",
    "            review = tf.math.in_top_k(tf.math.argmax(y,axis=1), output, 1)\n",
    "            perf = tf.math.reduce_mean(tf.cast(review, dtype=\"float32\"))\n",
    "\n",
    "        cGradients = tape.gradient(classLoss, self._model.trainable_variables)\n",
    "        self._learner[\"optimize\"].apply_gradients(zip(cGradients, self._model.trainable_variables))\n",
    "        return perf, classLoss\n",
    "\n",
    "\n",
    "    @tf.function\n",
    "    def validate(self, x:tf.Tensor, y:tf.Tensor) -> tf.Tensor:\n",
    "        output = self.__call__(x, training=False)\n",
    "        classLoss = self._learner[\"get_loss\"](y , output)\n",
    "        review = tf.math.in_top_k(tf.math.argmax(y,axis=1), output, 1)\n",
    "        perf = tf.math.reduce_mean(tf.cast(review, dtype=\"float32\"))\n",
    "        return perf , classLoss\n",
    "\n",
    "    def _build_model(self) -> tf.keras.Model:\n",
    "\n",
    "        input_tensor = tf.keras.Input(shape=self.input_dim)\n",
    "        feature_map = input_tensor\n",
    "        \n",
    "        d = 128\n",
    "        feature_map = tf.keras.layers.Dense(d, input_dim = self.input_dim, activation='relu')(feature_map)\n",
    "        feature_map = tf.keras.layers.Dropout(0.1)(feature_map)\n",
    "        # feature_map = tf.keras.layers.Dense(d//4, input_dim = d, activation='relu')(feature_map)\n",
    "        feature_map = tf.keras.layers.Dropout(0.1)(feature_map)\n",
    "        output_tensor = tf.keras.layers.Dense(self.out_class, input_dim = d, activation=tf.keras.activations.softmax)(feature_map)\n",
    "        \n",
    "\n",
    "        model = tf.keras.Model(input_tensor, output_tensor)\n",
    "        return model\n",
    "    \n",
    "    def _build_learner(self) -> dict:\n",
    "        # classLoss = tf.keras.losses.CategoricalCrossentropy(from_logits=True)\n",
    "        classLoss = tf.keras.losses.CategoricalCrossentropy()\n",
    "        classOptimizer = tf.keras.optimizers.Adam(learning_rate=self.learning_rate)\n",
    "        learner = {\"get_loss\": classLoss, \"optimize\": classOptimizer}\n",
    "\n",
    "        return learner"
   ]
  },
  {
   "cell_type": "markdown",
   "metadata": {},
   "source": [
    "### train"
   ]
  },
  {
   "cell_type": "code",
   "execution_count": 4,
   "metadata": {},
   "outputs": [],
   "source": [
    "def train_one_epoch(model , train_dataloader , valid_dataloader , max_acc , root_dir : Path):\n",
    "\n",
    "    epoch_train_loss = []\n",
    "    epoch_train_acc = []\n",
    "    epoch_valid_loss = []\n",
    "    epoch_valid_acc = []\n",
    "\n",
    "    for inData, outData in train_dataloader:\n",
    "        acc , loss = model.train(inData, outData)\n",
    "        epoch_train_acc.append(acc)\n",
    "        epoch_train_loss.append(loss)\n",
    "        # print(loss)\n",
    "        # print(acc)\n",
    "    # raise ValueError\n",
    "        \n",
    "    for inData, outData in valid_dataloader:\n",
    "        acc , loss = model.validate(inData, outData)\n",
    "        epoch_valid_acc.append(acc)\n",
    "        epoch_valid_loss.append(loss)\n",
    "\n",
    "    epoch_train_acc_mean = tf.math.reduce_mean(epoch_train_acc) * 100\n",
    "    epoch_valid_acc_mean = tf.math.reduce_mean(epoch_valid_acc) * 100\n",
    "    epoch_train_loss_mean = tf.math.reduce_mean(epoch_train_loss)\n",
    "    epoch_valid_loss_mean = tf.math.reduce_mean(epoch_valid_loss)\n",
    "\n",
    "    print(f\"  Train Acc: {epoch_train_acc_mean:.2f}, Loss: {epoch_train_loss_mean:.2f}\")\n",
    "    print(f\"  Valid Acc: {epoch_valid_acc_mean:.2f}, Loss: {epoch_valid_loss_mean:.2f}\")\n",
    "\n",
    "    if(epoch_valid_acc_mean > max_acc):\n",
    "        print(\"save best model\")\n",
    "        model.save(root_dir /\"model\", include_optimizer=False)\n",
    "    \n",
    "    return epoch_train_acc_mean, epoch_train_loss_mean , epoch_valid_acc_mean , epoch_valid_loss_mean\n"
   ]
  },
  {
   "cell_type": "code",
   "execution_count": 5,
   "metadata": {},
   "outputs": [],
   "source": [
    "def testing_model(test_dataloader , root_dir : Path = None , model_path : Path = None):\n",
    "    if root_dir is not None :\n",
    "        model = tf.keras.models.load_model(root_dir / \"model\", compile=False)\n",
    "    elif model_path is not None:\n",
    "        model = tf.keras.models.load_model(model_path)\n",
    "    else:\n",
    "        raise AttributeError(\"Testing models root_dir and model_path are not given\")\n",
    "    \n",
    "    testing_acc = []\n",
    "    print(\"Testing Model\")\n",
    "    \n",
    "    for data , label in tqdm(test_dataloader):\n",
    "        acc , loss = model.validate(data , label)\n",
    "        \n",
    "        testing_acc.append(acc)\n",
    "    \n",
    "    print(f\"acc = {np.mean(testing_acc)*100:.2f}\")\n",
    "    del model"
   ]
  },
  {
   "cell_type": "code",
   "execution_count": 6,
   "metadata": {},
   "outputs": [],
   "source": [
    "def show_train_results(train_info , root_folder : Path):\n",
    "    train_info = np.array(train_info)\n",
    "\n",
    "    plt.plot(np.arange(1,train_info.shape[0]+1) , train_info[:,0] , 'r' , label='train')\n",
    "    plt.plot(np.arange(1,train_info.shape[0]+1) , train_info[:,2] , 'b' , label='valid')\n",
    "    plt.title(\"Acc\")\n",
    "    plt.savefig(root_folder / \"model\" / \"Acc.png\")\n",
    "    plt.show()\n",
    "\n",
    "    plt.plot(np.arange(1,train_info.shape[0]+1) , train_info[:,1] , 'r' , label='train')\n",
    "    plt.plot(np.arange(1,train_info.shape[0]+1) , train_info[:,3] , 'b' , label='valid')\n",
    "    plt.title(\"Loss\")\n",
    "    plt.savefig(root_folder / \"model\" / \"Loss.png\")\n",
    "    plt.show()"
   ]
  },
  {
   "cell_type": "markdown",
   "metadata": {},
   "source": [
    "### convert model"
   ]
  },
  {
   "cell_type": "code",
   "execution_count": 7,
   "metadata": {},
   "outputs": [],
   "source": [
    "def save_model_tflite_quant(save_model_folder : Path , dataset):\n",
    "\n",
    "    def representative_dataset():\n",
    "        idx = 0\n",
    "        for data , label in dataset:\n",
    "            if idx > 1000:\n",
    "                break\n",
    "            idx += 1\n",
    "            \n",
    "            yield [data]\n",
    "\n",
    "    # float\n",
    "    converter = tf.lite.TFLiteConverter.from_saved_model(str(save_model_folder))\n",
    "    tflite_model = converter.convert()\n",
    "    open(save_model_folder / 'float_model.tflite', 'wb').write(tflite_model)\n",
    "    print(\"Successfully convert tflite float\")\n",
    "\n",
    "    # quant\n",
    "    converter = tf.lite.TFLiteConverter.from_saved_model(str(save_model_folder))\n",
    "    converter.optimizations = [tf.lite.Optimize.DEFAULT]\n",
    "    converter.representative_dataset = representative_dataset\n",
    "    converter.target_spec.supported_ops = [tf.lite.OpsSet.TFLITE_BUILTINS_INT8]\n",
    "    converter.inference_input_type = tf.int8  # or tf.uint8\n",
    "    converter.inference_output_type = tf.int8  # or tf.uint8\n",
    "    tflite_quant_model = converter.convert()\n",
    "    open(save_model_folder / 'quant_model.tflite', 'wb').write(tflite_quant_model)\n",
    "    print(\"Successfully convert tflite quant\")"
   ]
  },
  {
   "cell_type": "code",
   "execution_count": 8,
   "metadata": {},
   "outputs": [],
   "source": [
    "def test_tflite_model(tflite_model_path, test_dataset):\n",
    "    interpreter = tf.lite.Interpreter(model_path=str(tflite_model_path))\n",
    "    interpreter.allocate_tensors()\n",
    "    input = interpreter.get_input_details()[0]\n",
    "    output = interpreter.get_output_details()[0]\n",
    "    input_scale, input_zero_point = input['quantization']\n",
    "    output_scale, output_zero_point = output[\"quantization\"]\n",
    "    \n",
    "    print(f\"testing with {tflite_model_path}\")\n",
    "    \n",
    "    testing_acc = np.array([])\n",
    "    for data , label in tqdm(test_dataset):\n",
    "        if input[\"dtype\"] == np.float32:\n",
    "            interpreter.set_tensor(input['index'], data)\n",
    "        else:\n",
    "            quant_data = data.numpy() / input_scale + input_zero_point\n",
    "            interpreter.set_tensor(input['index'], quant_data.astype(input[\"dtype\"] ))\n",
    "\n",
    "        interpreter.invoke()\n",
    "\n",
    "        if output[\"dtype\"] == np.float32:\n",
    "            pred = interpreter.get_tensor(output['index'])\n",
    "        else:\n",
    "            dequant_pred = interpreter.get_tensor(output['index']).astype(np.float32)\n",
    "            pred = (dequant_pred - output_zero_point) * output_scale\n",
    "\n",
    "        testing_acc = np.append(testing_acc, np.argmax(pred) == np.argmax(label))   \n",
    "    \n",
    "    print(f\"result acc = {np.mean(testing_acc)*100:.2f}\")\n"
   ]
  },
  {
   "cell_type": "markdown",
   "metadata": {},
   "source": [
    "### main func"
   ]
  },
  {
   "cell_type": "code",
   "execution_count": 9,
   "metadata": {},
   "outputs": [
    {
     "name": "stdout",
     "output_type": "stream",
     "text": [
      "30 5\n",
      "252 14 14\n"
     ]
    },
    {
     "name": "stderr",
     "output_type": "stream",
     "text": [
      "2024-06-07 11:09:33.640297: E external/local_xla/xla/stream_executor/cuda/cuda_driver.cc:274] failed call to cuInit: CUDA_ERROR_NO_DEVICE: no CUDA-capable device is detected\n"
     ]
    },
    {
     "name": "stdout",
     "output_type": "stream",
     "text": [
      "Model: \"model_1\"\n",
      "_________________________________________________________________\n",
      " Layer (type)                Output Shape              Param #   \n",
      "=================================================================\n",
      " input_1 (InputLayer)        [(None, 30)]              0         \n",
      "                                                                 \n",
      " dense (Dense)               (None, 128)               3968      \n",
      "                                                                 \n",
      " dropout (Dropout)           (None, 128)               0         \n",
      "                                                                 \n",
      " dropout_1 (Dropout)         (None, 128)               0         \n",
      "                                                                 \n",
      " dense_1 (Dense)             (None, 7)                 903       \n",
      "                                                                 \n",
      "=================================================================\n",
      "Total params: 4871 (19.03 KB)\n",
      "Trainable params: 4871 (19.03 KB)\n",
      "Non-trainable params: 0 (0.00 Byte)\n",
      "_________________________________________________________________\n",
      "  Train Acc: 63.05, Loss: 0.72\n",
      "  Valid Acc: 37.50, Loss: 0.85\n",
      "save best model\n",
      "INFO:tensorflow:Assets written to: model/assets\n"
     ]
    },
    {
     "name": "stderr",
     "output_type": "stream",
     "text": [
      "INFO:tensorflow:Assets written to: model/assets\n"
     ]
    },
    {
     "name": "stdout",
     "output_type": "stream",
     "text": [
      "  Train Acc: 64.88, Loss: 0.62\n",
      "  Valid Acc: 37.50, Loss: 0.83\n",
      "  Train Acc: 65.18, Loss: 0.61\n",
      "  Valid Acc: 40.18, Loss: 0.84\n",
      "save best model\n",
      "INFO:tensorflow:Assets written to: model/assets\n"
     ]
    },
    {
     "name": "stderr",
     "output_type": "stream",
     "text": [
      "INFO:tensorflow:Assets written to: model/assets\n"
     ]
    },
    {
     "name": "stdout",
     "output_type": "stream",
     "text": [
      "  Train Acc: 66.22, Loss: 0.61\n",
      "  Valid Acc: 38.39, Loss: 0.84\n",
      "  Train Acc: 66.57, Loss: 0.60\n",
      "  Valid Acc: 54.46, Loss: 0.81\n",
      "save best model\n",
      "INFO:tensorflow:Assets written to: model/assets\n"
     ]
    },
    {
     "name": "stderr",
     "output_type": "stream",
     "text": [
      "INFO:tensorflow:Assets written to: model/assets\n"
     ]
    },
    {
     "name": "stdout",
     "output_type": "stream",
     "text": [
      "  Train Acc: 66.42, Loss: 0.60\n",
      "  Valid Acc: 37.50, Loss: 0.83\n",
      "  Train Acc: 66.32, Loss: 0.60\n",
      "  Valid Acc: 53.57, Loss: 0.80\n",
      "  Train Acc: 66.52, Loss: 0.59\n",
      "  Valid Acc: 52.68, Loss: 0.81\n",
      "  Train Acc: 67.01, Loss: 0.59\n",
      "  Valid Acc: 58.93, Loss: 0.80\n",
      "save best model\n",
      "INFO:tensorflow:Assets written to: model/assets\n"
     ]
    },
    {
     "name": "stderr",
     "output_type": "stream",
     "text": [
      "INFO:tensorflow:Assets written to: model/assets\n"
     ]
    },
    {
     "name": "stdout",
     "output_type": "stream",
     "text": [
      "  Train Acc: 66.96, Loss: 0.59\n",
      "  Valid Acc: 60.71, Loss: 0.78\n",
      "save best model\n",
      "INFO:tensorflow:Assets written to: model/assets\n"
     ]
    },
    {
     "name": "stderr",
     "output_type": "stream",
     "text": [
      "INFO:tensorflow:Assets written to: model/assets\n"
     ]
    },
    {
     "name": "stdout",
     "output_type": "stream",
     "text": [
      "  Train Acc: 67.36, Loss: 0.59\n",
      "  Valid Acc: 61.61, Loss: 0.78\n",
      "save best model\n",
      "INFO:tensorflow:Assets written to: model/assets\n"
     ]
    },
    {
     "name": "stderr",
     "output_type": "stream",
     "text": [
      "INFO:tensorflow:Assets written to: model/assets\n"
     ]
    },
    {
     "name": "stdout",
     "output_type": "stream",
     "text": [
      "  Train Acc: 67.51, Loss: 0.59\n",
      "  Valid Acc: 56.25, Loss: 0.80\n",
      "  Train Acc: 66.87, Loss: 0.59\n",
      "  Valid Acc: 61.61, Loss: 0.79\n",
      "  Train Acc: 67.51, Loss: 0.59\n",
      "  Valid Acc: 62.50, Loss: 0.78\n",
      "save best model\n",
      "INFO:tensorflow:Assets written to: model/assets\n"
     ]
    },
    {
     "name": "stderr",
     "output_type": "stream",
     "text": [
      "INFO:tensorflow:Assets written to: model/assets\n"
     ]
    },
    {
     "name": "stdout",
     "output_type": "stream",
     "text": [
      "  Train Acc: 66.77, Loss: 0.59\n",
      "  Valid Acc: 60.71, Loss: 0.79\n",
      "  Train Acc: 67.26, Loss: 0.58\n",
      "  Valid Acc: 59.82, Loss: 0.80\n",
      "  Train Acc: 67.36, Loss: 0.58\n",
      "  Valid Acc: 59.82, Loss: 0.79\n",
      "  Train Acc: 67.71, Loss: 0.58\n",
      "  Valid Acc: 63.39, Loss: 0.77\n",
      "save best model\n",
      "INFO:tensorflow:Assets written to: model/assets\n"
     ]
    },
    {
     "name": "stderr",
     "output_type": "stream",
     "text": [
      "INFO:tensorflow:Assets written to: model/assets\n"
     ]
    },
    {
     "name": "stdout",
     "output_type": "stream",
     "text": [
      "  Train Acc: 67.76, Loss: 0.58\n",
      "  Valid Acc: 62.50, Loss: 0.78\n",
      "  Train Acc: 67.66, Loss: 0.59\n",
      "  Valid Acc: 63.39, Loss: 0.77\n",
      "  Train Acc: 68.35, Loss: 0.58\n",
      "  Valid Acc: 61.61, Loss: 0.79\n",
      "  Train Acc: 67.61, Loss: 0.58\n",
      "  Valid Acc: 62.50, Loss: 0.79\n",
      "  Train Acc: 68.06, Loss: 0.58\n",
      "  Valid Acc: 62.50, Loss: 0.79\n",
      "  Train Acc: 68.15, Loss: 0.58\n",
      "  Valid Acc: 61.61, Loss: 0.79\n",
      "  Train Acc: 68.40, Loss: 0.58\n",
      "  Valid Acc: 60.71, Loss: 0.79\n",
      "  Train Acc: 67.91, Loss: 0.58\n",
      "  Valid Acc: 63.39, Loss: 0.76\n",
      "  Train Acc: 68.75, Loss: 0.58\n",
      "  Valid Acc: 61.61, Loss: 0.78\n",
      "  Train Acc: 68.06, Loss: 0.58\n",
      "  Valid Acc: 63.39, Loss: 0.78\n",
      "  Train Acc: 68.70, Loss: 0.58\n",
      "  Valid Acc: 61.61, Loss: 0.79\n",
      "  Train Acc: 67.96, Loss: 0.58\n",
      "  Valid Acc: 59.82, Loss: 0.78\n",
      "  Train Acc: 68.45, Loss: 0.57\n",
      "  Valid Acc: 62.50, Loss: 0.80\n",
      "  Train Acc: 68.95, Loss: 0.58\n",
      "  Valid Acc: 62.50, Loss: 0.79\n",
      "  Train Acc: 68.60, Loss: 0.57\n",
      "  Valid Acc: 62.50, Loss: 0.77\n",
      "  Train Acc: 68.65, Loss: 0.58\n",
      "  Valid Acc: 63.39, Loss: 0.78\n",
      "  Train Acc: 68.50, Loss: 0.58\n",
      "  Valid Acc: 61.61, Loss: 0.79\n",
      "  Train Acc: 68.50, Loss: 0.57\n",
      "  Valid Acc: 63.39, Loss: 0.78\n",
      "  Train Acc: 68.85, Loss: 0.57\n",
      "  Valid Acc: 62.50, Loss: 0.77\n",
      "  Train Acc: 69.10, Loss: 0.58\n",
      "  Valid Acc: 61.61, Loss: 0.79\n",
      "  Train Acc: 68.55, Loss: 0.58\n",
      "  Valid Acc: 64.29, Loss: 0.76\n",
      "save best model\n",
      "INFO:tensorflow:Assets written to: model/assets\n"
     ]
    },
    {
     "name": "stderr",
     "output_type": "stream",
     "text": [
      "INFO:tensorflow:Assets written to: model/assets\n"
     ]
    },
    {
     "name": "stdout",
     "output_type": "stream",
     "text": [
      "  Train Acc: 68.85, Loss: 0.58\n",
      "  Valid Acc: 62.50, Loss: 0.78\n",
      "  Train Acc: 68.70, Loss: 0.58\n",
      "  Valid Acc: 62.50, Loss: 0.78\n",
      "  Train Acc: 69.15, Loss: 0.57\n",
      "  Valid Acc: 62.50, Loss: 0.78\n",
      "  Train Acc: 69.20, Loss: 0.57\n",
      "  Valid Acc: 61.61, Loss: 0.76\n",
      "  Train Acc: 68.75, Loss: 0.57\n",
      "  Valid Acc: 63.39, Loss: 0.76\n",
      "  Train Acc: 69.49, Loss: 0.57\n",
      "  Valid Acc: 59.82, Loss: 0.80\n",
      "  Train Acc: 69.30, Loss: 0.57\n",
      "  Valid Acc: 64.29, Loss: 0.78\n",
      "  Train Acc: 70.09, Loss: 0.57\n",
      "  Valid Acc: 62.50, Loss: 0.79\n",
      "  Train Acc: 68.95, Loss: 0.57\n",
      "  Valid Acc: 60.71, Loss: 0.80\n",
      "  Train Acc: 69.20, Loss: 0.57\n",
      "  Valid Acc: 64.29, Loss: 0.77\n",
      "  Train Acc: 69.44, Loss: 0.57\n",
      "  Valid Acc: 65.18, Loss: 0.76\n",
      "save best model\n",
      "INFO:tensorflow:Assets written to: model/assets\n"
     ]
    },
    {
     "name": "stderr",
     "output_type": "stream",
     "text": [
      "INFO:tensorflow:Assets written to: model/assets\n"
     ]
    },
    {
     "name": "stdout",
     "output_type": "stream",
     "text": [
      "  Train Acc: 69.94, Loss: 0.57\n",
      "  Valid Acc: 63.39, Loss: 0.76\n",
      "  Train Acc: 69.44, Loss: 0.57\n",
      "  Valid Acc: 60.71, Loss: 0.77\n",
      "  Train Acc: 69.30, Loss: 0.57\n",
      "  Valid Acc: 64.29, Loss: 0.77\n",
      "  Train Acc: 69.54, Loss: 0.57\n",
      "  Valid Acc: 64.29, Loss: 0.76\n",
      "  Train Acc: 69.69, Loss: 0.57\n",
      "  Valid Acc: 62.50, Loss: 0.77\n",
      "  Train Acc: 70.29, Loss: 0.57\n",
      "  Valid Acc: 64.29, Loss: 0.78\n",
      "  Train Acc: 70.49, Loss: 0.56\n",
      "  Valid Acc: 61.61, Loss: 0.78\n",
      "  Train Acc: 70.34, Loss: 0.56\n",
      "  Valid Acc: 66.07, Loss: 0.78\n",
      "save best model\n",
      "INFO:tensorflow:Assets written to: model/assets\n"
     ]
    },
    {
     "name": "stderr",
     "output_type": "stream",
     "text": [
      "INFO:tensorflow:Assets written to: model/assets\n"
     ]
    },
    {
     "name": "stdout",
     "output_type": "stream",
     "text": [
      "  Train Acc: 70.49, Loss: 0.56\n",
      "  Valid Acc: 63.39, Loss: 0.79\n",
      "  Train Acc: 69.35, Loss: 0.57\n",
      "  Valid Acc: 60.71, Loss: 0.79\n",
      "  Train Acc: 70.68, Loss: 0.56\n",
      "  Valid Acc: 63.39, Loss: 0.76\n",
      "  Train Acc: 70.09, Loss: 0.56\n",
      "  Valid Acc: 65.18, Loss: 0.77\n",
      "  Train Acc: 69.84, Loss: 0.57\n",
      "  Valid Acc: 61.61, Loss: 0.79\n",
      "  Train Acc: 70.59, Loss: 0.57\n",
      "  Valid Acc: 61.61, Loss: 0.79\n",
      "  Train Acc: 70.98, Loss: 0.56\n",
      "  Valid Acc: 65.18, Loss: 0.78\n",
      "  Train Acc: 70.63, Loss: 0.56\n",
      "  Valid Acc: 64.29, Loss: 0.78\n",
      "  Train Acc: 70.88, Loss: 0.56\n",
      "  Valid Acc: 63.39, Loss: 0.80\n",
      "  Train Acc: 70.39, Loss: 0.56\n",
      "  Valid Acc: 63.39, Loss: 0.76\n",
      "  Train Acc: 71.58, Loss: 0.56\n",
      "  Valid Acc: 61.61, Loss: 0.78\n",
      "  Train Acc: 70.59, Loss: 0.56\n",
      "  Valid Acc: 61.61, Loss: 0.78\n",
      "  Train Acc: 72.07, Loss: 0.55\n",
      "  Valid Acc: 65.18, Loss: 0.77\n",
      "  Train Acc: 71.38, Loss: 0.56\n",
      "  Valid Acc: 62.50, Loss: 0.79\n",
      "  Train Acc: 71.83, Loss: 0.55\n",
      "  Valid Acc: 63.39, Loss: 0.77\n",
      "  Train Acc: 71.23, Loss: 0.56\n",
      "  Valid Acc: 63.39, Loss: 0.76\n",
      "  Train Acc: 70.78, Loss: 0.56\n",
      "  Valid Acc: 64.29, Loss: 0.77\n",
      "  Train Acc: 71.92, Loss: 0.55\n",
      "  Valid Acc: 61.61, Loss: 0.77\n",
      "  Train Acc: 71.48, Loss: 0.55\n",
      "  Valid Acc: 62.50, Loss: 0.77\n",
      "  Train Acc: 72.27, Loss: 0.55\n",
      "  Valid Acc: 65.18, Loss: 0.75\n",
      "  Train Acc: 71.83, Loss: 0.56\n",
      "  Valid Acc: 61.61, Loss: 0.77\n",
      "  Train Acc: 71.88, Loss: 0.55\n",
      "  Valid Acc: 64.29, Loss: 0.75\n",
      "  Train Acc: 72.42, Loss: 0.55\n",
      "  Valid Acc: 63.39, Loss: 0.75\n",
      "  Train Acc: 72.92, Loss: 0.55\n",
      "  Valid Acc: 61.61, Loss: 0.77\n",
      "  Train Acc: 72.52, Loss: 0.55\n",
      "  Valid Acc: 62.50, Loss: 0.77\n",
      "  Train Acc: 72.17, Loss: 0.55\n",
      "  Valid Acc: 63.39, Loss: 0.76\n",
      "  Train Acc: 72.12, Loss: 0.55\n",
      "  Valid Acc: 63.39, Loss: 0.76\n",
      "  Train Acc: 72.72, Loss: 0.55\n",
      "  Valid Acc: 63.39, Loss: 0.77\n",
      "  Train Acc: 72.62, Loss: 0.55\n",
      "  Valid Acc: 63.39, Loss: 0.78\n",
      "  Train Acc: 72.52, Loss: 0.55\n",
      "  Valid Acc: 64.29, Loss: 0.76\n",
      "  Train Acc: 72.87, Loss: 0.55\n",
      "  Valid Acc: 62.50, Loss: 0.79\n",
      "  Train Acc: 72.47, Loss: 0.54\n",
      "  Valid Acc: 63.39, Loss: 0.77\n",
      "  Train Acc: 72.42, Loss: 0.55\n",
      "  Valid Acc: 63.39, Loss: 0.79\n",
      "  Train Acc: 72.17, Loss: 0.55\n",
      "  Valid Acc: 65.18, Loss: 0.79\n",
      "  Train Acc: 72.82, Loss: 0.54\n",
      "  Valid Acc: 63.39, Loss: 0.76\n",
      "  Train Acc: 72.87, Loss: 0.54\n",
      "  Valid Acc: 63.39, Loss: 0.78\n",
      "  Train Acc: 72.77, Loss: 0.54\n",
      "  Valid Acc: 61.61, Loss: 0.81\n",
      "  Train Acc: 72.82, Loss: 0.54\n",
      "  Valid Acc: 62.50, Loss: 0.78\n",
      "  Train Acc: 73.16, Loss: 0.54\n",
      "  Valid Acc: 65.18, Loss: 0.76\n",
      "  Train Acc: 72.92, Loss: 0.54\n",
      "  Valid Acc: 62.50, Loss: 0.81\n",
      "  Train Acc: 73.02, Loss: 0.54\n",
      "  Valid Acc: 64.29, Loss: 0.81\n",
      "  Train Acc: 72.47, Loss: 0.54\n",
      "  Valid Acc: 61.61, Loss: 0.80\n"
     ]
    },
    {
     "data": {
      "image/png": "[encoded data removed]",
      "text/plain": [
       "<Figure size 432x288 with 1 Axes>"
      ]
     },
     "metadata": {
      "needs_background": "light"
     },
     "output_type": "display_data"
    },
    {
     "data": {
      "image/png": "[encoded data removed]",
      "text/plain": [
       "<Figure size 432x288 with 1 Axes>"
      ]
     },
     "metadata": {
      "needs_background": "light"
     },
     "output_type": "display_data"
    },
    {
     "name": "stderr",
     "output_type": "stream",
     "text": [
      "WARNING:absl:Importing a function (__inference_internal_grad_fn_71367) with ops with unsaved custom gradients. Will likely fail if a gradient is requested.\n"
     ]
    },
    {
     "name": "stdout",
     "output_type": "stream",
     "text": [
      "Testing Model\n"
     ]
    },
    {
     "name": "stderr",
     "output_type": "stream",
     "text": [
      "100%|██████████| 14/14 [00:00<00:00, 267.70it/s]\n",
      "WARNING:absl:Importing a function (__inference_internal_grad_fn_71367) with ops with unsaved custom gradients. Will likely fail if a gradient is requested.\n"
     ]
    },
    {
     "name": "stdout",
     "output_type": "stream",
     "text": [
      "acc = 80.36\n"
     ]
    },
    {
     "name": "stderr",
     "output_type": "stream",
     "text": [
      "2024-06-07 11:10:23.227076: W tensorflow/compiler/mlir/lite/python/tf_tfl_flatbuffer_helpers.cc:378] Ignored output_format.\n",
      "2024-06-07 11:10:23.227115: W tensorflow/compiler/mlir/lite/python/tf_tfl_flatbuffer_helpers.cc:381] Ignored drop_control_dependency.\n",
      "2024-06-07 11:10:23.227670: I tensorflow/cc/saved_model/reader.cc:83] Reading SavedModel from: model\n",
      "2024-06-07 11:10:23.230327: I tensorflow/cc/saved_model/reader.cc:51] Reading meta graph with tags { serve }\n",
      "2024-06-07 11:10:23.230347: I tensorflow/cc/saved_model/reader.cc:146] Reading SavedModel debug info (if present) from: model\n",
      "2024-06-07 11:10:23.234124: I tensorflow/compiler/mlir/mlir_graph_optimization_pass.cc:388] MLIR V1 optimization pass is not enabled\n",
      "2024-06-07 11:10:23.235632: I tensorflow/cc/saved_model/loader.cc:233] Restoring SavedModel bundle.\n",
      "2024-06-07 11:10:23.276224: I tensorflow/cc/saved_model/loader.cc:217] Running initialization op on SavedModel bundle at path: model\n",
      "2024-06-07 11:10:23.291119: I tensorflow/cc/saved_model/loader.cc:316] SavedModel load for tags { serve }; Status: success: OK. Took 63451 microseconds.\n",
      "2024-06-07 11:10:23.341437: I tensorflow/compiler/mlir/tensorflow/utils/dump_mlir_util.cc:269] disabling MLIR crash reproducer, set env var `MLIR_CRASH_REPRODUCER_DIRECTORY` to enable.\n",
      "Summary on the non-converted ops:\n",
      "---------------------------------\n",
      " * Accepted dialects: tfl, builtin, func\n",
      " * Non-Converted Ops: 4, Total Ops 10, % non-converted = 40.00 %\n",
      " * 4 ARITH ops\n",
      "\n",
      "- arith.constant:    4 occurrences  (f32: 4)\n",
      "\n",
      "\n",
      "\n",
      "  (f32: 2)\n",
      "  (f32: 1)\n",
      "WARNING:absl:Importing a function (__inference_internal_grad_fn_71367) with ops with unsaved custom gradients. Will likely fail if a gradient is requested.\n"
     ]
    },
    {
     "name": "stdout",
     "output_type": "stream",
     "text": [
      "Successfully convert tflite float\n"
     ]
    },
    {
     "name": "stderr",
     "output_type": "stream",
     "text": [
      "2024-06-07 11:10:23.879952: W tensorflow/compiler/mlir/lite/python/tf_tfl_flatbuffer_helpers.cc:378] Ignored output_format.\n",
      "2024-06-07 11:10:23.879991: W tensorflow/compiler/mlir/lite/python/tf_tfl_flatbuffer_helpers.cc:381] Ignored drop_control_dependency.\n",
      "2024-06-07 11:10:23.880234: I tensorflow/cc/saved_model/reader.cc:83] Reading SavedModel from: model\n",
      "2024-06-07 11:10:23.882346: I tensorflow/cc/saved_model/reader.cc:51] Reading meta graph with tags { serve }\n",
      "2024-06-07 11:10:23.882372: I tensorflow/cc/saved_model/reader.cc:146] Reading SavedModel debug info (if present) from: model\n",
      "2024-06-07 11:10:23.887109: I tensorflow/cc/saved_model/loader.cc:233] Restoring SavedModel bundle.\n",
      "2024-06-07 11:10:23.929292: I tensorflow/cc/saved_model/loader.cc:217] Running initialization op on SavedModel bundle at path: model\n",
      "2024-06-07 11:10:23.948176: I tensorflow/cc/saved_model/loader.cc:316] SavedModel load for tags { serve }; Status: success: OK. Took 67941 microseconds.\n",
      "Summary on the non-converted ops:\n",
      "---------------------------------\n",
      " * Accepted dialects: tfl, builtin, func\n",
      " * Non-Converted Ops: 4, Total Ops 10, % non-converted = 40.00 %\n",
      " * 4 ARITH ops\n",
      "\n",
      "- arith.constant:    4 occurrences  (f32: 4)\n",
      "\n",
      "\n",
      "\n",
      "  (f32: 2)\n",
      "  (f32: 1)\n",
      "fully_quantize: 0, inference_type: 6, input_inference_type: INT8, output_inference_type: INT8\n",
      "INFO: Created TensorFlow Lite XNNPACK delegate for CPU.\n"
     ]
    },
    {
     "name": "stdout",
     "output_type": "stream",
     "text": [
      "Successfully convert tflite quant\n",
      "30 5\n",
      "84 84 112\n",
      "testing with model/float_model.tflite\n"
     ]
    },
    {
     "name": "stderr",
     "output_type": "stream",
     "text": [
      "100%|██████████| 896/896 [00:00<00:00, 2763.03it/s]\n"
     ]
    },
    {
     "name": "stdout",
     "output_type": "stream",
     "text": [
      "result acc = 70.09\n",
      "testing with model/quant_model.tflite\n"
     ]
    },
    {
     "name": "stderr",
     "output_type": "stream",
     "text": [
      "100%|██████████| 896/896 [00:00<00:00, 2629.72it/s]\n"
     ]
    },
    {
     "name": "stdout",
     "output_type": "stream",
     "text": [
      "result acc = 74.33\n"
     ]
    }
   ],
   "source": [
    "batch_size = 8\n",
    "learning_rate = 1e-3\n",
    "epochs = 100\n",
    "\n",
    "output_class = 7\n",
    "save_dir = Path(\"./\")\n",
    "input_shape, train_dataset, valid_dataset, test_dataset = dataset_preproccessed(\"../c30_e5_dataset.csv\", batch_size, [0.9, 0.05, 0.05], output_class)\n",
    "# input_shape, train_dataset, valid_dataset, test_dataset = pseudo_dataset_preproccessed(3000, 15, batch_size, [0.9, 0.05, 0.05], output_class)\n",
    "\n",
    "m = model([input_shape], output_class, learning_rate)\n",
    "m.build((batch_size , input_shape))\n",
    "m._model.summary()\n",
    "\n",
    "train_info = []\n",
    "max_acc = 0\n",
    "for epoch in range(epochs):\n",
    "    epoch_info = train_one_epoch(m, train_dataset, valid_dataset, max_acc, save_dir)\n",
    "    max_acc = max(epoch_info[2], max_acc)\n",
    "    train_info.append(list(epoch_info))\n",
    "\n",
    "show_train_results(train_info , save_dir)\n",
    "testing_model(test_dataset, save_dir, save_dir)\n",
    "save_model_tflite_quant(save_dir / \"model\", valid_dataset)\n",
    "\n",
    "input_shape, train_dataset, valid_dataset, test_dataset = dataset_preproccessed(\"../c30_e5_dataset.csv\", 1, [0.3, 0.3, 0.4], output_class)\n",
    "test_tflite_model(save_dir / \"model\" / \"float_model.tflite\", test_dataset)\n",
    "test_tflite_model(save_dir / \"model\" / \"quant_model.tflite\", test_dataset)\n",
    "\n",
    "!xxd -i {save_dir}/model/quant_model.tflite > model/model.cc\n",
    "# !echo -ne \"#include \\\"model_data_quant.h\\\"\\nalignas(8)\\n\" > model/model_data_quant.h\n",
    "!cat model/model.cc > model/model_data_quant.h\n",
    "!sed -i -E 's/(unsigned\\s.*\\s).*(_len|\\[\\])/const \\1model\\2/g' model/model_data_quant.h\n",
    "     "
   ]
  }
 ],
 "metadata": {
  "kernelspec": {
   "display_name": "umamba",
   "language": "python",
   "name": "python3"
  },
  "language_info": {
   "codemirror_mode": {
    "name": "ipython",
    "version": 3
   },
   "file_extension": ".py",
   "mimetype": "text/x-python",
   "name": "python",
   "nbconvert_exporter": "python",
   "pygments_lexer": "ipython3",
   "version": "3.9.12"
  }
 },
 "nbformat": 4,
 "nbformat_minor": 2
}
